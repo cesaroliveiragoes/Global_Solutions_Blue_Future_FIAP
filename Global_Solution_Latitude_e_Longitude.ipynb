{
  "nbformat": 4,
  "nbformat_minor": 0,
  "metadata": {
    "colab": {
      "provenance": [],
      "authorship_tag": "ABX9TyPfNAntAWRhH0+tG6St3Q1G",
      "include_colab_link": true
    },
    "kernelspec": {
      "name": "python3",
      "display_name": "Python 3"
    },
    "language_info": {
      "name": "python"
    }
  },
  "cells": [
    {
      "cell_type": "markdown",
      "metadata": {
        "id": "view-in-github",
        "colab_type": "text"
      },
      "source": [
        "<a href=\"https://colab.research.google.com/github/cesaroliveiragoes/Global_Solutions_Blue_Future_FIAP/blob/main/Global_Solution_Latitude_e_Longitude.ipynb\" target=\"_parent\"><img src=\"https://colab.research.google.com/assets/colab-badge.svg\" alt=\"Open In Colab\"/></a>"
      ]
    },
    {
      "cell_type": "code",
      "execution_count": null,
      "metadata": {
        "colab": {
          "base_uri": "https://localhost:8080/"
        },
        "id": "lrSiZz3qa4s3",
        "outputId": "c1825c8b-5038-461f-c968-8b5431724c69"
      },
      "outputs": [
        {
          "output_type": "stream",
          "name": "stdout",
          "text": [
            "    Latitude   Longitude\n",
            "0 -56.492806 -111.281866\n",
            "1 -31.761248 -125.219233\n",
            "2  48.772054  132.771896\n",
            "3 -29.664719  112.520092\n",
            "4 -57.267214  -65.929097\n",
            "5  -5.671122 -156.726321\n",
            "6  -4.221825   69.960232\n",
            "7   8.342215  145.917963\n",
            "8 -25.650191  147.818502\n",
            "9 -29.284996  -57.048389\n"
          ]
        }
      ],
      "source": [
        "import numpy as np\n",
        "import pandas as pd\n",
        "\n",
        "# Definir os limites do Oceano Pacífico\n",
        "lat_min = -66.0  # Latitude mínima (ex: Estreito de Magalhães)\n",
        "lat_max = 66.0  # Latitude máxima (ex: Estreito de Bering)\n",
        "lon_min = -180.0  # Longitude mínima\n",
        "lon_max = 180.0  # Longitude máxima\n",
        "\n",
        "# Gerar arrays de latitudes e longitudes aleatórias\n",
        "num_pontos = 100  # Número de pontos a gerar\n",
        "lats = np.random.uniform(lat_min, lat_max, num_pontos)\n",
        "lons = np.random.uniform(lon_min, lon_max, num_pontos)\n",
        "\n",
        "# Combinar latitudes e longitudes em um DataFrame\n",
        "df_pontos = pd.DataFrame({\n",
        "    'Latitude': lats,\n",
        "    'Longitude': lons\n",
        "})\n",
        "\n",
        "# Exibir os primeiros 10 pontos\n",
        "print(df_pontos.head(10))\n",
        "\n",
        "# Salvar o DataFrame em um arquivo Excel\n",
        "df_pontos.to_excel('pontos_pacifico.xlsx', index=False)\n"
      ]
    },
    {
      "cell_type": "code",
      "source": [
        "import numpy as np\n",
        "import pandas as pd\n",
        "\n",
        "# Definir os limites do Oceano Atlântico\n",
        "lat_min = -60.0  # Latitude mínima (aproximadamente a latitude da Convergência Antártica)\n",
        "lat_max = 70.0  # Latitude máxima (aproximadamente a latitude do Mar de Barents)\n",
        "lon_min = -80.0  # Longitude mínima (aproximadamente a longitude da América do Sul)\n",
        "lon_max = 20.0  # Longitude máxima (aproximadamente a longitude da Europa e África Ocidental)\n",
        "\n",
        "# Gerar arrays de latitudes e longitudes aleatórias\n",
        "num_pontos = 100  # Número de pontos a gerar\n",
        "lats = np.random.uniform(lat_min, lat_max, num_pontos)\n",
        "lons = np.random.uniform(lon_min, lon_max, num_pontos)\n",
        "\n",
        "# Combinar latitudes e longitudes em um DataFrame\n",
        "df_pontos = pd.DataFrame({\n",
        "    'Latitude': lats,\n",
        "    'Longitude': lons\n",
        "})\n",
        "\n",
        "# Exibir os primeiros 10 pontos\n",
        "print(df_pontos.head(10))\n",
        "\n",
        "# Salvar o DataFrame em um arquivo Excel\n",
        "df_pontos.to_excel('pontos_atlantico.xlsx', index=False)\n"
      ],
      "metadata": {
        "colab": {
          "base_uri": "https://localhost:8080/"
        },
        "id": "pjXZHcGycYnA",
        "outputId": "f7baa732-324a-457f-cc57-9fa71a716f45"
      },
      "execution_count": null,
      "outputs": [
        {
          "output_type": "stream",
          "name": "stdout",
          "text": [
            "    Latitude  Longitude\n",
            "0 -25.857834 -76.346349\n",
            "1 -26.202034 -42.708128\n",
            "2  20.048211 -70.180069\n",
            "3  37.658195 -28.508950\n",
            "4 -45.667140 -73.069937\n",
            "5  -1.035472 -58.502509\n",
            "6 -57.760922 -39.570111\n",
            "7 -43.968625  -6.005567\n",
            "8 -51.275946 -33.898008\n",
            "9 -16.084951 -14.723975\n"
          ]
        }
      ]
    },
    {
      "cell_type": "code",
      "source": [
        "import numpy as np\n",
        "import pandas as pd\n",
        "\n",
        "# Definir os limites do Oceano Índico\n",
        "lat_min = -60.0  # Latitude mínima (aproximadamente a latitude da Convergência Antártica)\n",
        "lat_max = 30.0  # Latitude máxima (aproximadamente a latitude do Mar da Arábia)\n",
        "lon_min = 20.0  # Longitude mínima (aproximadamente a longitude da África Oriental)\n",
        "lon_max = 120.0  # Longitude máxima (aproximadamente a longitude da Austrália Ocidental)\n",
        "\n",
        "# Gerar arrays de latitudes e longitudes aleatórias\n",
        "num_pontos = 100  # Número de pontos a gerar\n",
        "lats = np.random.uniform(lat_min, lat_max, num_pontos)\n",
        "lons = np.random.uniform(lon_min, lon_max, num_pontos)\n",
        "\n",
        "# Combinar latitudes e longitudes em um DataFrame\n",
        "df_pontos = pd.DataFrame({\n",
        "    'Latitude': lats,\n",
        "    'Longitude': lons\n",
        "})\n",
        "\n",
        "# Exibir os primeiros 10 pontos\n",
        "print(df_pontos.head(10))\n",
        "\n",
        "# Salvar o DataFrame em um arquivo Excel\n",
        "df_pontos.to_excel('pontos_indico.xlsx', index=False)\n"
      ],
      "metadata": {
        "colab": {
          "base_uri": "https://localhost:8080/"
        },
        "id": "Psp_IZUBcgx6",
        "outputId": "c1c8cd16-4644-4329-fd43-cfe4a6db0c4c"
      },
      "execution_count": null,
      "outputs": [
        {
          "output_type": "stream",
          "name": "stdout",
          "text": [
            "    Latitude   Longitude\n",
            "0 -39.363058   64.173651\n",
            "1 -53.628596   27.148757\n",
            "2 -59.787612  101.851170\n",
            "3 -12.341559  108.711995\n",
            "4  -0.706544   91.757812\n",
            "5 -14.545336   78.259363\n",
            "6 -43.361320   29.361084\n",
            "7 -21.894814   23.821767\n",
            "8 -31.503866   30.586403\n",
            "9  -6.187261   99.442509\n"
          ]
        }
      ]
    },
    {
      "cell_type": "code",
      "source": [],
      "metadata": {
        "id": "MOKl8rWschJ5"
      },
      "execution_count": null,
      "outputs": []
    }
  ]
}